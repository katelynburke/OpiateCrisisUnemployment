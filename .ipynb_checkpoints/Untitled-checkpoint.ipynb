{
 "cells": [
  {
   "cell_type": "code",
   "execution_count": null,
   "metadata": {},
   "outputs": [],
   "source": [
    "d = {'State': ['Alabama', 'Alaska', 'Arizona', 'Arkansas', 'California', 'Colorado', 'Connecticut', 'Delaware', 'Florida', 'Georgia', 'Hawaii', 'Idaho', 'Illinois', 'Indiana', 'Iowa', 'Kansas', 'Kentucky', 'Louisiana', 'Maine', 'Maryland', 'Massachusetts', 'Michigan', 'Minnesota', 'Mississippi', 'Missouri', 'Montana', 'Nebraska', 'Nevada', 'New Hampshire', 'New Jersey', 'New Mexico', 'New York', 'North Carolina', 'North Dakota', 'Ohio', 'Oklahoma', 'Oregon', 'Pennsylvania', 'Rhode Island', 'South Carolina', 'South Dakota', 'Tennessee', 'Texas', 'Utah', 'Vermont', 'Virginia', 'Washington', 'West Virginia', 'Wisconsin', 'Wyoming'], 'Avg_Income': ['53612.92', '77670.20', '62578.07', '52060.36', '78126.73', '73322.82', '89227.21', '70142.34', '60887.88', '60354.39', '77859.58', '56211.44', '69067.38', '59153.83', '62569.14', '61704.81', '55250.16', '55432.26', '60708.52', '87689.60', '84878.68', '59001.12', '71403.99', '48924.00', '56674.88', '57350.55', '61719.38', '65684.12', '76113.50', '88657.64', '57127.07', '76201.22', '57750.10', '65137.06', '59675.86', '55121.33', '63597.04', '64878.69', '72971.17', '55715.24', '58276.96', '56271.95', '65407.01', '72132.21', '63195.49', '79401.74', '74067.36', '52291.99', '64143.25', '67552.66']}\n",
    "mean_df = pd.DataFrame(data=d)\n",
    "mean_df.head()"
   ]
  }
 ],
 "metadata": {
  "kernelspec": {
   "display_name": "Python 3",
   "language": "python",
   "name": "python3"
  },
  "language_info": {
   "codemirror_mode": {
    "name": "ipython",
    "version": 3
   },
   "file_extension": ".py",
   "mimetype": "text/x-python",
   "name": "python",
   "nbconvert_exporter": "python",
   "pygments_lexer": "ipython3",
   "version": "3.6.7"
  }
 },
 "nbformat": 4,
 "nbformat_minor": 2
}
